{
 "cells": [
  {
   "cell_type": "markdown",
   "metadata": {},
   "source": [
    "# COVID-19 in Australia and Taiwan\n",
    "\n",
    "## A country comparison"
   ]
  },
  {
   "cell_type": "markdown",
   "metadata": {},
   "source": [
    "During the ABC's popular \"Q and A\" on Monday 23 March, it was highlighted by the panelists that Taiwan is doing a much better job than Australia in controlling the spread of COVID-19, despite the almost identical population sizes and Taiwan's higher exposure to visitors to mainland China. This analysis will further investigate this claim and the potential reasons put forward. \n",
    "\n",
    "Suggested reasons include:\n",
    "\n",
    " - Taiwan's readiness after being scarred by the SARS crisis in 2003\n",
    " - Temperature screening of all international visitors at airports, even prior to the COVID-19 outbreak\n",
    " - A significantly higher willingness to use data as a tool to track and contain the disease, such as data matching airport arrivals, GP visits and health insurance"
   ]
  },
  {
   "cell_type": "code",
   "execution_count": 505,
   "metadata": {},
   "outputs": [],
   "source": [
    "# wrangling tools\n",
    "import numpy as np\n",
    "import pandas as pd\n",
    "import datetime as dt\n",
    "# viz tools\n",
    "import plotnine as p9\n",
    "from mizani.breaks import date_breaks\n",
    "from mizani.formatters import date_format"
   ]
  },
  {
   "cell_type": "code",
   "execution_count": 304,
   "metadata": {},
   "outputs": [],
   "source": [
    "#import sys\n",
    "#!{sys.executable} -m pip install plotnine"
   ]
  },
  {
   "cell_type": "code",
   "execution_count": 334,
   "metadata": {},
   "outputs": [],
   "source": []
  },
  {
   "cell_type": "code",
   "execution_count": 283,
   "metadata": {},
   "outputs": [
    {
     "data": {
      "text/html": [
       "<div>\n",
       "<style scoped>\n",
       "    .dataframe tbody tr th:only-of-type {\n",
       "        vertical-align: middle;\n",
       "    }\n",
       "\n",
       "    .dataframe tbody tr th {\n",
       "        vertical-align: top;\n",
       "    }\n",
       "\n",
       "    .dataframe thead th {\n",
       "        text-align: right;\n",
       "    }\n",
       "</style>\n",
       "<table border=\"1\" class=\"dataframe\">\n",
       "  <thead>\n",
       "    <tr style=\"text-align: right;\">\n",
       "      <th></th>\n",
       "      <th>SNo</th>\n",
       "      <th>ObservationDate</th>\n",
       "      <th>Province/State</th>\n",
       "      <th>Country/Region</th>\n",
       "      <th>Last Update</th>\n",
       "      <th>Confirmed</th>\n",
       "      <th>Deaths</th>\n",
       "      <th>Recovered</th>\n",
       "    </tr>\n",
       "  </thead>\n",
       "  <tbody>\n",
       "    <tr>\n",
       "      <td>0</td>\n",
       "      <td>1</td>\n",
       "      <td>01/22/2020</td>\n",
       "      <td>Anhui</td>\n",
       "      <td>Mainland China</td>\n",
       "      <td>1/22/2020 17:00</td>\n",
       "      <td>1.0</td>\n",
       "      <td>0.0</td>\n",
       "      <td>0.0</td>\n",
       "    </tr>\n",
       "    <tr>\n",
       "      <td>1</td>\n",
       "      <td>2</td>\n",
       "      <td>01/22/2020</td>\n",
       "      <td>Beijing</td>\n",
       "      <td>Mainland China</td>\n",
       "      <td>1/22/2020 17:00</td>\n",
       "      <td>14.0</td>\n",
       "      <td>0.0</td>\n",
       "      <td>0.0</td>\n",
       "    </tr>\n",
       "    <tr>\n",
       "      <td>2</td>\n",
       "      <td>3</td>\n",
       "      <td>01/22/2020</td>\n",
       "      <td>Chongqing</td>\n",
       "      <td>Mainland China</td>\n",
       "      <td>1/22/2020 17:00</td>\n",
       "      <td>6.0</td>\n",
       "      <td>0.0</td>\n",
       "      <td>0.0</td>\n",
       "    </tr>\n",
       "    <tr>\n",
       "      <td>3</td>\n",
       "      <td>4</td>\n",
       "      <td>01/22/2020</td>\n",
       "      <td>Fujian</td>\n",
       "      <td>Mainland China</td>\n",
       "      <td>1/22/2020 17:00</td>\n",
       "      <td>1.0</td>\n",
       "      <td>0.0</td>\n",
       "      <td>0.0</td>\n",
       "    </tr>\n",
       "    <tr>\n",
       "      <td>4</td>\n",
       "      <td>5</td>\n",
       "      <td>01/22/2020</td>\n",
       "      <td>Gansu</td>\n",
       "      <td>Mainland China</td>\n",
       "      <td>1/22/2020 17:00</td>\n",
       "      <td>0.0</td>\n",
       "      <td>0.0</td>\n",
       "      <td>0.0</td>\n",
       "    </tr>\n",
       "  </tbody>\n",
       "</table>\n",
       "</div>"
      ],
      "text/plain": [
       "   SNo ObservationDate Province/State  Country/Region      Last Update  \\\n",
       "0    1      01/22/2020          Anhui  Mainland China  1/22/2020 17:00   \n",
       "1    2      01/22/2020        Beijing  Mainland China  1/22/2020 17:00   \n",
       "2    3      01/22/2020      Chongqing  Mainland China  1/22/2020 17:00   \n",
       "3    4      01/22/2020         Fujian  Mainland China  1/22/2020 17:00   \n",
       "4    5      01/22/2020          Gansu  Mainland China  1/22/2020 17:00   \n",
       "\n",
       "   Confirmed  Deaths  Recovered  \n",
       "0        1.0     0.0        0.0  \n",
       "1       14.0     0.0        0.0  \n",
       "2        6.0     0.0        0.0  \n",
       "3        1.0     0.0        0.0  \n",
       "4        0.0     0.0        0.0  "
      ]
     },
     "execution_count": 283,
     "metadata": {},
     "output_type": "execute_result"
    }
   ],
   "source": [
    "df_c19_all = pd.read_csv('covid_19_data.csv')\n",
    "df_c19_all.head()"
   ]
  },
  {
   "cell_type": "markdown",
   "metadata": {},
   "source": [
    "This data provides granularity down to the province level, which is useful when looking at countries like China and US. For now though, we are interested in the total confirmed cases per day per country, so we aggregate."
   ]
  },
  {
   "cell_type": "code",
   "execution_count": 445,
   "metadata": {},
   "outputs": [],
   "source": [
    "def country_daily(df, country, metric):\n",
    "    '''\n",
    "    Creates new data frame for country of choice, aggregated daily\n",
    "    '''\n",
    "    df_country_daily = df[df['Country/Region'] == country]\n",
    "    df_country_daily = df_country_daily[['ObservationDate', metric]].groupby('ObservationDate').sum().reset_index()\n",
    "    \n",
    "    return df_country_daily"
   ]
  },
  {
   "cell_type": "markdown",
   "metadata": {},
   "source": [
    "This analysis will do an comparison of two countries: Australia and Taiwan. We create dataframes for both countries separately, and also merge to make one dataframe for comparison"
   ]
  },
  {
   "cell_type": "code",
   "execution_count": 447,
   "metadata": {},
   "outputs": [],
   "source": [
    "au_daily = country_daily(df_c19_all, \"Australia\", \"Confirmed\")\n",
    "tw_daily = country_daily(df_c19_all, \"Taiwan\", \"Confirmed\")"
   ]
  },
  {
   "cell_type": "code",
   "execution_count": 286,
   "metadata": {},
   "outputs": [],
   "source": [
    "def merge_countries(df_country1, df_country2, s1, s2):\n",
    "    \n",
    "    '''\n",
    "    Make a merged df of confirmed number in two countries \n",
    "    for side-by-side comparison. Include suffixes\n",
    "    '''\n",
    "    \n",
    "    df = pd.merge(df_country1, df_country2, on='ObservationDate', \n",
    "                       how='outer', suffixes=['_'+s1, '_'+s2])\n",
    "    df = df.sort_values('ObservationDate').reset_index(drop=True)\n",
    "    df = df.fillna(0)\n",
    "\n",
    "    return(df)"
   ]
  },
  {
   "cell_type": "code",
   "execution_count": 310,
   "metadata": {},
   "outputs": [
    {
     "data": {
      "text/html": [
       "<div>\n",
       "<style scoped>\n",
       "    .dataframe tbody tr th:only-of-type {\n",
       "        vertical-align: middle;\n",
       "    }\n",
       "\n",
       "    .dataframe tbody tr th {\n",
       "        vertical-align: top;\n",
       "    }\n",
       "\n",
       "    .dataframe thead th {\n",
       "        text-align: right;\n",
       "    }\n",
       "</style>\n",
       "<table border=\"1\" class=\"dataframe\">\n",
       "  <thead>\n",
       "    <tr style=\"text-align: right;\">\n",
       "      <th></th>\n",
       "      <th>ObservationDate</th>\n",
       "      <th>Confirmed_au</th>\n",
       "      <th>Confirmed_tw</th>\n",
       "    </tr>\n",
       "  </thead>\n",
       "  <tbody>\n",
       "    <tr>\n",
       "      <td>0</td>\n",
       "      <td>2020-01-22</td>\n",
       "      <td>0.0</td>\n",
       "      <td>1.0</td>\n",
       "    </tr>\n",
       "    <tr>\n",
       "      <td>1</td>\n",
       "      <td>2020-01-23</td>\n",
       "      <td>0.0</td>\n",
       "      <td>1.0</td>\n",
       "    </tr>\n",
       "    <tr>\n",
       "      <td>2</td>\n",
       "      <td>2020-01-24</td>\n",
       "      <td>0.0</td>\n",
       "      <td>3.0</td>\n",
       "    </tr>\n",
       "    <tr>\n",
       "      <td>3</td>\n",
       "      <td>2020-01-25</td>\n",
       "      <td>4.0</td>\n",
       "      <td>3.0</td>\n",
       "    </tr>\n",
       "    <tr>\n",
       "      <td>4</td>\n",
       "      <td>2020-01-26</td>\n",
       "      <td>4.0</td>\n",
       "      <td>4.0</td>\n",
       "    </tr>\n",
       "    <tr>\n",
       "      <td>...</td>\n",
       "      <td>...</td>\n",
       "      <td>...</td>\n",
       "      <td>...</td>\n",
       "    </tr>\n",
       "    <tr>\n",
       "      <td>57</td>\n",
       "      <td>2020-03-19</td>\n",
       "      <td>681.0</td>\n",
       "      <td>108.0</td>\n",
       "    </tr>\n",
       "    <tr>\n",
       "      <td>58</td>\n",
       "      <td>2020-03-20</td>\n",
       "      <td>791.0</td>\n",
       "      <td>135.0</td>\n",
       "    </tr>\n",
       "    <tr>\n",
       "      <td>59</td>\n",
       "      <td>2020-03-21</td>\n",
       "      <td>1071.0</td>\n",
       "      <td>153.0</td>\n",
       "    </tr>\n",
       "    <tr>\n",
       "      <td>60</td>\n",
       "      <td>2020-03-22</td>\n",
       "      <td>1314.0</td>\n",
       "      <td>169.0</td>\n",
       "    </tr>\n",
       "    <tr>\n",
       "      <td>61</td>\n",
       "      <td>2020-03-23</td>\n",
       "      <td>1682.0</td>\n",
       "      <td>195.0</td>\n",
       "    </tr>\n",
       "  </tbody>\n",
       "</table>\n",
       "<p>62 rows × 3 columns</p>\n",
       "</div>"
      ],
      "text/plain": [
       "   ObservationDate  Confirmed_au  Confirmed_tw\n",
       "0       2020-01-22           0.0           1.0\n",
       "1       2020-01-23           0.0           1.0\n",
       "2       2020-01-24           0.0           3.0\n",
       "3       2020-01-25           4.0           3.0\n",
       "4       2020-01-26           4.0           4.0\n",
       "..             ...           ...           ...\n",
       "57      2020-03-19         681.0         108.0\n",
       "58      2020-03-20         791.0         135.0\n",
       "59      2020-03-21        1071.0         153.0\n",
       "60      2020-03-22        1314.0         169.0\n",
       "61      2020-03-23        1682.0         195.0\n",
       "\n",
       "[62 rows x 3 columns]"
      ]
     },
     "execution_count": 310,
     "metadata": {},
     "output_type": "execute_result"
    }
   ],
   "source": [
    "au_tw_daily = merge_countries(au_daily, tw_daily, \"au\", \"tw\")\n",
    "au_tw_daily['ObservationDate'] = pd.to_datetime(au_tw_daily['ObservationDate'])\n",
    "au_tw_daily"
   ]
  },
  {
   "cell_type": "markdown",
   "metadata": {},
   "source": [
    "Firstly, let's investigate the theory that Australia and Taiwan have had very different rates of increase in confirmed cases of COVID-19 over since late January 2020."
   ]
  },
  {
   "cell_type": "code",
   "execution_count": 408,
   "metadata": {},
   "outputs": [],
   "source": [
    "def melt_for_plot(df, melt_var1, melt_var2, melted_val):\n",
    "    '''\n",
    "    Takes a dataframe and pivots variables long \n",
    "    in preparation for a side-by-side visualisation\n",
    "    '''\n",
    "    \n",
    "    df_long = df[['ObservationDate', melt_var1, melt_var2]].melt('ObservationDate',\n",
    "                                                      var_name='Country',\n",
    "                                                      value_name=melted_val).sort_values('ObservationDate')\n",
    "    df_long.reset_index(drop=True, inplace=True)\n",
    "    df_long.fillna(0, inplace=True)\n",
    "    \n",
    "    country_map = {melt_var1:'Australia', melt_var2:'Taiwan'}\n",
    "    df_long['Country'] = df_long['Country'].map(country_map)\n",
    "    \n",
    "    return(df_long)"
   ]
  },
  {
   "cell_type": "code",
   "execution_count": 409,
   "metadata": {},
   "outputs": [],
   "source": [
    "au_tw_long = melt_for_plot(au_tw_daily, 'Confirmed_au', 'Confirmed_tw', 'Confirmed')"
   ]
  },
  {
   "cell_type": "code",
   "execution_count": 410,
   "metadata": {},
   "outputs": [
    {
     "data": {
      "image/png": "[encoded data removed]",
      "text/plain": [
       "<Figure size 700x500 with 1 Axes>"
      ]
     },
     "metadata": {},
     "output_type": "display_data"
    },
    {
     "data": {
      "text/plain": [
       "<ggplot: (7019631009)>"
      ]
     },
     "execution_count": 410,
     "metadata": {},
     "output_type": "execute_result"
    }
   ],
   "source": [
    "p1 = (ggplot(au_tw_long)\n",
    " + geoms.geom_line(aes('ObservationDate', 'Confirmed', colour='Country'))\n",
    " + p9.scales.scale_colour_manual(values = (\"green\", \"blue\"))\n",
    " + p9.themes.theme_bw()\n",
    " + p9.theme(figure_size=(7,5))\n",
    " + p9.scales.scale_x_date(labels = date_format('%b %d'))     \n",
    ")\n",
    "p1"
   ]
  },
  {
   "cell_type": "markdown",
   "metadata": {},
   "source": [
    "It appears the growth rates in confirmed cases for the two countries remained very similar until early March. Lets investigate exactly where growth rates began to differ significantly."
   ]
  },
  {
   "cell_type": "code",
   "execution_count": 389,
   "metadata": {},
   "outputs": [
    {
     "data": {
      "text/html": [
       "<div>\n",
       "<style scoped>\n",
       "    .dataframe tbody tr th:only-of-type {\n",
       "        vertical-align: middle;\n",
       "    }\n",
       "\n",
       "    .dataframe tbody tr th {\n",
       "        vertical-align: top;\n",
       "    }\n",
       "\n",
       "    .dataframe thead th {\n",
       "        text-align: right;\n",
       "    }\n",
       "</style>\n",
       "<table border=\"1\" class=\"dataframe\">\n",
       "  <thead>\n",
       "    <tr style=\"text-align: right;\">\n",
       "      <th></th>\n",
       "      <th>ObservationDate</th>\n",
       "      <th>Confirmed_au</th>\n",
       "      <th>Confirmed_tw</th>\n",
       "      <th>AU_pct_change</th>\n",
       "      <th>TW_pct_change</th>\n",
       "    </tr>\n",
       "  </thead>\n",
       "  <tbody>\n",
       "    <tr>\n",
       "      <td>0</td>\n",
       "      <td>2020-01-22</td>\n",
       "      <td>0.0</td>\n",
       "      <td>1.0</td>\n",
       "      <td>NaN</td>\n",
       "      <td>NaN</td>\n",
       "    </tr>\n",
       "    <tr>\n",
       "      <td>1</td>\n",
       "      <td>2020-01-23</td>\n",
       "      <td>0.0</td>\n",
       "      <td>1.0</td>\n",
       "      <td>NaN</td>\n",
       "      <td>0.000000</td>\n",
       "    </tr>\n",
       "    <tr>\n",
       "      <td>2</td>\n",
       "      <td>2020-01-24</td>\n",
       "      <td>0.0</td>\n",
       "      <td>3.0</td>\n",
       "      <td>NaN</td>\n",
       "      <td>2.000000</td>\n",
       "    </tr>\n",
       "    <tr>\n",
       "      <td>3</td>\n",
       "      <td>2020-01-25</td>\n",
       "      <td>4.0</td>\n",
       "      <td>3.0</td>\n",
       "      <td>inf</td>\n",
       "      <td>0.000000</td>\n",
       "    </tr>\n",
       "    <tr>\n",
       "      <td>4</td>\n",
       "      <td>2020-01-26</td>\n",
       "      <td>4.0</td>\n",
       "      <td>4.0</td>\n",
       "      <td>0.000000</td>\n",
       "      <td>0.333333</td>\n",
       "    </tr>\n",
       "    <tr>\n",
       "      <td>...</td>\n",
       "      <td>...</td>\n",
       "      <td>...</td>\n",
       "      <td>...</td>\n",
       "      <td>...</td>\n",
       "      <td>...</td>\n",
       "    </tr>\n",
       "    <tr>\n",
       "      <td>57</td>\n",
       "      <td>2020-03-19</td>\n",
       "      <td>681.0</td>\n",
       "      <td>108.0</td>\n",
       "      <td>0.198944</td>\n",
       "      <td>0.080000</td>\n",
       "    </tr>\n",
       "    <tr>\n",
       "      <td>58</td>\n",
       "      <td>2020-03-20</td>\n",
       "      <td>791.0</td>\n",
       "      <td>135.0</td>\n",
       "      <td>0.161527</td>\n",
       "      <td>0.250000</td>\n",
       "    </tr>\n",
       "    <tr>\n",
       "      <td>59</td>\n",
       "      <td>2020-03-21</td>\n",
       "      <td>1071.0</td>\n",
       "      <td>153.0</td>\n",
       "      <td>0.353982</td>\n",
       "      <td>0.133333</td>\n",
       "    </tr>\n",
       "    <tr>\n",
       "      <td>60</td>\n",
       "      <td>2020-03-22</td>\n",
       "      <td>1314.0</td>\n",
       "      <td>169.0</td>\n",
       "      <td>0.226891</td>\n",
       "      <td>0.104575</td>\n",
       "    </tr>\n",
       "    <tr>\n",
       "      <td>61</td>\n",
       "      <td>2020-03-23</td>\n",
       "      <td>1682.0</td>\n",
       "      <td>195.0</td>\n",
       "      <td>0.280061</td>\n",
       "      <td>0.153846</td>\n",
       "    </tr>\n",
       "  </tbody>\n",
       "</table>\n",
       "<p>62 rows × 5 columns</p>\n",
       "</div>"
      ],
      "text/plain": [
       "   ObservationDate  Confirmed_au  Confirmed_tw  AU_pct_change  TW_pct_change\n",
       "0       2020-01-22           0.0           1.0            NaN            NaN\n",
       "1       2020-01-23           0.0           1.0            NaN       0.000000\n",
       "2       2020-01-24           0.0           3.0            NaN       2.000000\n",
       "3       2020-01-25           4.0           3.0            inf       0.000000\n",
       "4       2020-01-26           4.0           4.0       0.000000       0.333333\n",
       "..             ...           ...           ...            ...            ...\n",
       "57      2020-03-19         681.0         108.0       0.198944       0.080000\n",
       "58      2020-03-20         791.0         135.0       0.161527       0.250000\n",
       "59      2020-03-21        1071.0         153.0       0.353982       0.133333\n",
       "60      2020-03-22        1314.0         169.0       0.226891       0.104575\n",
       "61      2020-03-23        1682.0         195.0       0.280061       0.153846\n",
       "\n",
       "[62 rows x 5 columns]"
      ]
     },
     "execution_count": 389,
     "metadata": {},
     "output_type": "execute_result"
    }
   ],
   "source": [
    "au_tw_daily[['AU_pct_change','TW_pct_change']] = au_tw_daily[['Confirmed_au', 'Confirmed_tw']].pct_change()\n",
    "au_tw_daily"
   ]
  },
  {
   "cell_type": "code",
   "execution_count": 433,
   "metadata": {},
   "outputs": [],
   "source": [
    "pct_change_long = melt_for_plot(au_tw_daily, \n",
    "                                'AU_pct_change', \n",
    "                                'TW_pct_change', \n",
    "                                'Pct_change')\n",
    "pct_change_long = pct_change_long[pct_change_long['ObservationDate'] > '2020-02-15']"
   ]
  },
  {
   "cell_type": "code",
   "execution_count": 434,
   "metadata": {},
   "outputs": [
    {
     "data": {
      "image/png": "[encoded data removed]",
      "text/plain": [
       "<Figure size 640x480 with 1 Axes>"
      ]
     },
     "metadata": {},
     "output_type": "display_data"
    },
    {
     "data": {
      "text/plain": [
       "<ggplot: (7026704189)>"
      ]
     },
     "execution_count": 434,
     "metadata": {},
     "output_type": "execute_result"
    }
   ],
   "source": [
    "(ggplot(pct_change_long, aes('ObservationDate', 'Pct_change', \n",
    "                      fill='Country'))\n",
    " + geoms.geom_col(stat='identity', position='dodge')\n",
    " + p9.scales.scale_fill_manual(values = (\"green\", \"blue\"))\n",
    " + p9.themes.theme_bw()\n",
    " + p9.scales.scale_x_date(labels = date_format('%b %d'))\n",
    ")"
   ]
  },
  {
   "cell_type": "markdown",
   "metadata": {},
   "source": [
    "It is clear from the above that Australia has had a much higher daily percentage increase in confirmed cases since Feb15."
   ]
  },
  {
   "cell_type": "markdown",
   "metadata": {},
   "source": [
    "At what point did first deaths occur?"
   ]
  },
  {
   "cell_type": "code",
   "execution_count": 453,
   "metadata": {},
   "outputs": [],
   "source": [
    "au = df_c19[df_c19['Country/Region'] == \"Australia\"]\n",
    "tw = df_c19[df_c19['Country/Region'] == \"Taiwan\"]"
   ]
  },
  {
   "cell_type": "code",
   "execution_count": 513,
   "metadata": {},
   "outputs": [],
   "source": [
    "au_first_conf = au[au['Confirmed'] == 1.0].sort_values('ObservationDate').head(1)['ObservationDate']\n",
    "au_first_death = au[au['Deaths'] == 1.0].sort_values('ObservationDate').head(1)['ObservationDate']\n",
    "\n",
    "tw_first_conf = tw[tw['Confirmed'] == 1.0].sort_values('ObservationDate').head(1)['ObservationDate']\n",
    "tw_first_death = tw[tw['Deaths'] == 1.0].sort_values('ObservationDate').head(1)['ObservationDate']"
   ]
  },
  {
   "cell_type": "code",
   "execution_count": 519,
   "metadata": {},
   "outputs": [
    {
     "name": "stdout",
     "output_type": "stream",
     "text": [
      "The first confirmed case in Australia was on 01/27/2020\n",
      "The first confirmed death in Australia was on 03/01/2020\n",
      "\n",
      "\n",
      "The first confirmed case in Taiwan was on 01/22/2020\n",
      "The first confirmed death in Taiwan was on 02/16/2020\n"
     ]
    }
   ],
   "source": [
    "print('The first confirmed case in Australia was on {}'.format(au_first_conf.values[0]))\n",
    "print('The first confirmed death in Australia was on {}'.format(au_first_death.values[0]))\n",
    "print('\\n')\n",
    "print('The first confirmed case in Taiwan was on {}'.format(tw_first_conf.values[0]))\n",
    "print('The first confirmed death in Taiwan was on {}'.format(tw_first_death.values[0]))"
   ]
  },
  {
   "cell_type": "code",
   "execution_count": 538,
   "metadata": {},
   "outputs": [],
   "source": [
    "def print_dates(df, country, metric):\n",
    "    country_df = df[df['Country/Region'] == country]\n",
    "    var = country_df[country_df[metric] == 1.0].sort_values('ObservationDate').head(1)['ObservationDate']\n",
    "    var = var.values[0]\n",
    "    return(var)"
   ]
  },
  {
   "cell_type": "code",
   "execution_count": 548,
   "metadata": {},
   "outputs": [
    {
     "name": "stdout",
     "output_type": "stream",
     "text": [
      "Australia Deaths\n",
      "Taiwan Deaths\n"
     ]
    }
   ],
   "source": [
    "inputs = {'Australia':'Confirmed', 'Australia':'Deaths',\n",
    "         'Taiwan':'Confirmed','Taiwan':'Deaths'}\n",
    "\n",
    "for key, value in inputs.items():\n",
    "    print(key,value)"
   ]
  },
  {
   "cell_type": "code",
   "execution_count": 476,
   "metadata": {},
   "outputs": [
    {
     "data": {
      "text/plain": [
       "266    01/27/2020\n",
       "Name: ObservationDate, dtype: object"
      ]
     },
     "execution_count": 476,
     "metadata": {},
     "output_type": "execute_result"
    }
   ],
   "source": [
    "# Fist Aus death\n",
    "au[au['Confirmed'] == 1.0].sort_values('ObservationDate').head(1)['ObservationDate']"
   ]
  },
  {
   "cell_type": "code",
   "execution_count": 458,
   "metadata": {},
   "outputs": [
    {
     "data": {
      "text/html": [
       "<div>\n",
       "<style scoped>\n",
       "    .dataframe tbody tr th:only-of-type {\n",
       "        vertical-align: middle;\n",
       "    }\n",
       "\n",
       "    .dataframe tbody tr th {\n",
       "        vertical-align: top;\n",
       "    }\n",
       "\n",
       "    .dataframe thead th {\n",
       "        text-align: right;\n",
       "    }\n",
       "</style>\n",
       "<table border=\"1\" class=\"dataframe\">\n",
       "  <thead>\n",
       "    <tr style=\"text-align: right;\">\n",
       "      <th></th>\n",
       "      <th>SNo</th>\n",
       "      <th>ObservationDate</th>\n",
       "      <th>Province/State</th>\n",
       "      <th>Country/Region</th>\n",
       "      <th>Last Update</th>\n",
       "      <th>Confirmed</th>\n",
       "      <th>Deaths</th>\n",
       "      <th>Recovered</th>\n",
       "    </tr>\n",
       "  </thead>\n",
       "  <tbody>\n",
       "    <tr>\n",
       "      <td>1601</td>\n",
       "      <td>1602</td>\n",
       "      <td>02/16/2020</td>\n",
       "      <td>Taiwan</td>\n",
       "      <td>Taiwan</td>\n",
       "      <td>2020-02-16T11:23:06</td>\n",
       "      <td>20.0</td>\n",
       "      <td>1.0</td>\n",
       "      <td>2.0</td>\n",
       "    </tr>\n",
       "  </tbody>\n",
       "</table>\n",
       "</div>"
      ],
      "text/plain": [
       "       SNo ObservationDate Province/State Country/Region          Last Update  \\\n",
       "1601  1602      02/16/2020         Taiwan         Taiwan  2020-02-16T11:23:06   \n",
       "\n",
       "      Confirmed  Deaths  Recovered  \n",
       "1601       20.0     1.0        2.0  "
      ]
     },
     "execution_count": 458,
     "metadata": {},
     "output_type": "execute_result"
    }
   ],
   "source": [
    "tw[tw['Deaths'] == 1.0].sort_values('ObservationDate').head(1)"
   ]
  },
  {
   "cell_type": "code",
   "execution_count": null,
   "metadata": {},
   "outputs": [],
   "source": []
  }
 ],
 "metadata": {
  "kernelspec": {
   "display_name": "Python 3",
   "language": "python",
   "name": "python3"
  },
  "language_info": {
   "codemirror_mode": {
    "name": "ipython",
    "version": 3
   },
   "file_extension": ".py",
   "mimetype": "text/x-python",
   "name": "python",
   "nbconvert_exporter": "python",
   "pygments_lexer": "ipython3",
   "version": "3.7.4"
  }
 },
 "nbformat": 4,
 "nbformat_minor": 2
}
